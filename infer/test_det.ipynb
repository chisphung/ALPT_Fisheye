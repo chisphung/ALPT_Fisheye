{
 "cells": [
  {
   "cell_type": "code",
   "execution_count": 1,
   "id": "038e4e14",
   "metadata": {},
   "outputs": [
    {
     "name": "stdout",
     "output_type": "stream",
     "text": [
      "/home/chisphung/ALPR_Fisheye/infer\n"
     ]
    }
   ],
   "source": [
    "!pwd"
   ]
  },
  {
   "cell_type": "code",
   "execution_count": 3,
   "id": "1bbe0e16",
   "metadata": {},
   "outputs": [
    {
     "name": "stdout",
     "output_type": "stream",
     "text": [
      "/home/chisphung/ALPR_Fisheye\n"
     ]
    }
   ],
   "source": [
    "%cd .."
   ]
  },
  {
   "cell_type": "code",
   "execution_count": 7,
   "id": "1482ba46",
   "metadata": {},
   "outputs": [],
   "source": [
    "from infer.detection import CharacterDetection"
   ]
  },
  {
   "cell_type": "code",
   "execution_count": 8,
   "id": "2feaac55",
   "metadata": {},
   "outputs": [],
   "source": [
    "CharDeet = CharacterDetection()"
   ]
  },
  {
   "cell_type": "code",
   "execution_count": 13,
   "id": "c000298a",
   "metadata": {},
   "outputs": [],
   "source": [
    "import cv2\n",
    "img = cv2.imread('/home/chisphung/ALPR_Fisheye/dataset/images/train/carlong_0002.png')\n",
    "preprocessed_img, resized_img = CharDeet.preprocess_image(original_image=img, device='cpu')"
   ]
  },
  {
   "cell_type": "code",
   "execution_count": 28,
   "id": "75125e45",
   "metadata": {},
   "outputs": [],
   "source": [
    "# Convert torch tensor to numpy array and transpose to HWC format\n",
    "import numpy as np\n",
    "\n",
    "img_np = preprocessed_img.squeeze().permute(1, 2, 0).cpu().numpy()\n",
    "img_np = (img_np * 255).astype(np.uint8)  # If the tensor is normalized\n",
    "\n",
    "cv2.imshow('preprocessed_img', img_np)\n",
    "cv2.waitKey(0)\n",
    "cv2.destroyAllWindows()"
   ]
  },
  {
   "cell_type": "code",
   "execution_count": null,
   "id": "7b4145bb",
   "metadata": {},
   "outputs": [],
   "source": []
  }
 ],
 "metadata": {
  "kernelspec": {
   "display_name": ".venv",
   "language": "python",
   "name": "python3"
  },
  "language_info": {
   "codemirror_mode": {
    "name": "ipython",
    "version": 3
   },
   "file_extension": ".py",
   "mimetype": "text/x-python",
   "name": "python",
   "nbconvert_exporter": "python",
   "pygments_lexer": "ipython3",
   "version": "3.12.3"
  }
 },
 "nbformat": 4,
 "nbformat_minor": 5
}
