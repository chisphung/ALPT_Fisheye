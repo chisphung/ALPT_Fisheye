{
 "cells": [
  {
   "cell_type": "code",
   "execution_count": 1,
   "id": "b8e55289",
   "metadata": {},
   "outputs": [],
   "source": [
    "import cv2\n",
    "import numpy as np\n",
    "from dataclasses import dataclass\n",
    "from typing import Tuple, List, Literal, Dict, Any"
   ]
  },
  {
   "cell_type": "code",
   "execution_count": 2,
   "id": "83ab71ad",
   "metadata": {},
   "outputs": [],
   "source": [
    "Point = Tuple[float, float]  # (x, y)\n",
    "PlateType = Literal[\"one_line\", \"two_line\"]"
   ]
  },
  {
   "cell_type": "code",
   "execution_count": 3,
   "id": "cf49fb71",
   "metadata": {},
   "outputs": [],
   "source": [
    "@dataclass\n",
    "class VNPreprocessConfig:\n",
    "    # Detector input (if you also resize for detection)\n",
    "    det_short_side: int = 256\n",
    "\n",
    "    # Recognition canvases\n",
    "    out_size_one_line: Tuple[int, int] = (64, 256)   # (H, W)\n",
    "    out_size_two_line: Tuple[int, int] = (96, 192)   # (H, W)\n",
    "\n",
    "    # Decision threshold: classify two-line if H/W of the *quad* > this\n",
    "    # (measured before rectification, using average edge lengths)\n",
    "    two_line_hw_ratio_thresh: float = 0.45\n",
    "\n",
    "    # Enlarge source quad to keep margins (like paper’s 1.25×)\n",
    "    enlarge_ratio: float = 1.25\n",
    "\n",
    "    # Warping params\n",
    "    interp: int = cv2.INTER_LINEAR\n",
    "    border_mode: int = cv2.BORDER_CONSTANT\n",
    "    border_value: Tuple[int, int, int] = (0, 0, 0)\n",
    "\n"
   ]
  },
  {
   "cell_type": "markdown",
   "id": "f44f3a8e",
   "metadata": {},
   "source": [
    "#---------- geometry helpers ----------"
   ]
  },
  {
   "cell_type": "code",
   "execution_count": 5,
   "id": "4de29aa8",
   "metadata": {},
   "outputs": [],
   "source": [
    "def order_quad_pts_clockwise(pts: np.ndarray) -> np.ndarray:\n",
    "    c = np.mean(pts, axis=0)\n",
    "    ang = np.arctan2(pts[:,1]-c[1], pts[:,0]-c[0])\n",
    "    order = np.argsort(ang)\n",
    "    pts = pts[order]\n",
    "    # rotate so we start at top-left (min x+y)\n",
    "    s = np.sum(pts, axis=1)\n",
    "    pts = np.roll(pts, -np.argmin(s), axis=0)\n",
    "    return pts.astype(np.float32)"
   ]
  },
  {
   "cell_type": "code",
   "execution_count": 6,
   "id": "2ec37cfc",
   "metadata": {},
   "outputs": [],
   "source": [
    "def enlarge_quad(quad: np.ndarray, ratio: float) -> np.ndarray:\n",
    "    ctr = quad.mean(axis=0, keepdims=True)\n",
    "    return ((quad - ctr) * ratio + ctr).astype(np.float32)\n"
   ]
  },
  {
   "cell_type": "code",
   "execution_count": 7,
   "id": "f91d4b3a",
   "metadata": {},
   "outputs": [],
   "source": [
    "def avg_width_height_of_quad(quad: np.ndarray) -> Tuple[float, float]:\n",
    "    # quad ordered TL, TR, BR, BL\n",
    "    w_top  = np.linalg.norm(quad[1] - quad[0])\n",
    "    w_bot  = np.linalg.norm(quad[2] - quad[3])\n",
    "    h_left = np.linalg.norm(quad[3] - quad[0])\n",
    "    h_right= np.linalg.norm(quad[2] - quad[1])\n",
    "    return (0.5*(w_top + w_bot), 0.5*(h_left + h_right))"
   ]
  },
  {
   "cell_type": "code",
   "execution_count": 8,
   "id": "ff773e7d",
   "metadata": {},
   "outputs": [],
   "source": [
    "def classify_plate_type_by_hw(quad: np.ndarray, thresh: float) -> PlateType:\n",
    "    w, h = avg_width_height_of_quad(quad)\n",
    "    return \"two_line\" if (h / max(w, 1e-6)) > thresh else \"one_line\"\n"
   ]
  },
  {
   "cell_type": "markdown",
   "id": "5155f81c",
   "metadata": {},
   "source": [
    "# ---------- rectification ----------"
   ]
  },
  {
   "cell_type": "code",
   "execution_count": 9,
   "id": "bbef09ad",
   "metadata": {},
   "outputs": [],
   "source": [
    "def rectify_plate(\n",
    "    image_full: np.ndarray,\n",
    "    verts_full: List[Point],\n",
    "    cfg: VNPreprocessConfig\n",
    ") -> Dict[str, Any]:\n",
    "    \"\"\"\n",
    "    Returns:\n",
    "      {\n",
    "        'plate_type': 'one_line'|'two_line',\n",
    "        'rectified': HxW np.uint8 image,\n",
    "        'meta': { 'quad_ordered': np.ndarray (4,2), 'H_out': int, 'W_out': int }\n",
    "      }\n",
    "    \"\"\"\n",
    "    quad = order_quad_pts_clockwise(np.asarray(verts_full, dtype=np.float32))\n",
    "    plate_type = classify_plate_type_by_hw(quad, cfg.two_line_hw_ratio_thresh)\n",
    "\n",
    "    if plate_type == \"one_line\":\n",
    "        H_out, W_out = cfg.out_size_one_line\n",
    "    else:\n",
    "        H_out, W_out = cfg.out_size_two_line\n",
    "\n",
    "    # enlarge source quad before warping (safety margin)\n",
    "    quad_src = enlarge_quad(quad, cfg.enlarge_ratio)\n",
    "\n",
    "    dst = np.array([\n",
    "        [0, 0],\n",
    "        [W_out - 1, 0],\n",
    "        [W_out - 1, H_out - 1],\n",
    "        [0, H_out - 1]\n",
    "    ], dtype=np.float32)\n",
    "\n",
    "    M = cv2.getPerspectiveTransform(quad_src, dst)\n",
    "    rectified = cv2.warpPerspective(\n",
    "        image_full, M, (W_out, H_out),\n",
    "        flags=cfg.interp, borderMode=cfg.border_mode, borderValue=cfg.border_value\n",
    "    )\n",
    "    return {\n",
    "        \"plate_type\": plate_type,\n",
    "        \"rectified\": rectified,\n",
    "        \"meta\": {\"quad_ordered\": quad, \"H_out\": H_out, \"W_out\": W_out}\n",
    "    }"
   ]
  },
  {
   "cell_type": "markdown",
   "id": "33ca117e",
   "metadata": {},
   "source": [
    "## split 2-line plate into top/bottom lines "
   ]
  },
  {
   "cell_type": "code",
   "execution_count": null,
   "id": "c5e0902b",
   "metadata": {},
   "outputs": [],
   "source": [
    "def split_two_line(rectified_two_line: np.ndarray, split_bias: float = 0.52):\n",
    "    \"\"\"\n",
    "    Split a rectified 2-line plate into top & bottom bands.\n",
    "    `split_bias` lets you bias the horizontal split (top shorter in VN plates).\n",
    "    Returns two images (top, bottom) resized to same width.\n",
    "    \"\"\"\n",
    "    H, W = rectified_two_line.shape[:2]\n",
    "    y = int(H * split_bias)  # e.g., 52% height for top band\n",
    "    top  = rectified_two_line[:y, :]\n",
    "    bot  = rectified_two_line[y:, :]\n",
    "\n",
    "    # Normalize heights if your recognizer expects a fixed height per line\n",
    "    H_line = 48\n",
    "    top  = cv2.resize(top,  (W, H_line), interpolation=cv2.INTER_LINEAR)\n",
    "    bot  = cv2.resize(bot,  (W, H_line), interpolation=cv2.INTER_LINEAR)\n",
    "    return top, bot"
   ]
  },
  {
   "cell_type": "markdown",
   "id": "c0e567a1",
   "metadata": {},
   "source": [
    "# ---------- detector input (optional) ----------"
   ]
  },
  {
   "cell_type": "code",
   "execution_count": null,
   "id": "812171d9",
   "metadata": {},
   "outputs": [],
   "source": [
    "def resize_with_aspect(image: np.ndarray, short_side: int):\n",
    "    h, w = image.shape[:2]\n",
    "    if h <= w:\n",
    "        scale = short_side / float(h)\n",
    "        new_h, new_w = short_side, int(round(w * scale))\n",
    "    else:\n",
    "        scale = short_side / float(w)\n",
    "        new_w, new_h = short_side, int(round(h * scale))\n",
    "    resized = cv2.resize(image, (new_w, new_h), interpolation=cv2.INTER_LINEAR)\n",
    "    return resized, scale, 0, 0\n",
    "\n",
    "def map_vertices_from_resized_to_original(verts_resized: List[Point], scale: float, pad_x=0, pad_y=0):\n",
    "    v = np.asarray(verts_resized, dtype=np.float32)\n",
    "    v[:, 0] -= pad_x; v[:, 1] -= pad_y\n",
    "    return (v / scale).astype(np.float32)\n"
   ]
  },
  {
   "cell_type": "code",
   "execution_count": null,
   "id": "751dc902",
   "metadata": {},
   "outputs": [],
   "source": [
    "cfg = VNPreprocessConfig()\n",
    "resized_img, scale, pad_x, pad_y = resize_with_aspect(full_img, cfg.det_short_side)"
   ]
  },
  {
   "cell_type": "code",
   "execution_count": null,
   "id": "104c5cfc",
   "metadata": {},
   "outputs": [],
   "source": [
    "\n",
    "verts_full = map_vertices_from_resized_to_original(verts_resized, scale, pad_x, pad_y)\n",
    "result = rectify_plate(full_img, verts_full, cfg)\n",
    "rectified = result[\"rectified\"]\n",
    "ptype = result[\"plate_type\"]  # 'one_line' or 'two_line'\n",
    "\n",
    "# 3) If two-line and you want separate lines for your recognizer:\n",
    "if ptype == \"two_line\":\n",
    "    top_line, bot_line = split_two_line(rectified, split_bias=0.52)"
   ]
  }
 ],
 "metadata": {
  "kernelspec": {
   "display_name": ".venv",
   "language": "python",
   "name": "python3"
  },
  "language_info": {
   "codemirror_mode": {
    "name": "ipython",
    "version": 3
   },
   "file_extension": ".py",
   "mimetype": "text/x-python",
   "name": "python",
   "nbconvert_exporter": "python",
   "pygments_lexer": "ipython3",
   "version": "3.12.3"
  }
 },
 "nbformat": 4,
 "nbformat_minor": 5
}
